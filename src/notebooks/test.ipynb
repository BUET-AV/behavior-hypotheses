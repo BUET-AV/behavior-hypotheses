{
 "cells": [
  {
   "cell_type": "code",
   "execution_count": null,
   "metadata": {},
   "outputs": [],
   "source": [
    "starting023 = AngularDisplacementCalculator.addAngularDisplacement(starting023)\n",
    "starting023 = AngularDisplacementCalculator.addRelativeAngularDisplacement(starting023)\n",
    "starting023\n",
    "updated=starting023.copy()\n",
    "size=updated.shape[0]\n",
    "\n",
    "while size>3 :\n",
    "        visualizer.show(updated,idCol='uniqueTrackId',xCol='localX',yCol='localY')\n",
    "        minimum=updated[updated['absoluteAngularDisplacement']!=0]['absoluteAngularDisplacement'].min()\n",
    "        min_index=updated[updated['absoluteAngularDisplacement']==minimum].index\n",
    "        print(min_index)\n",
    "        updated=updated.drop(min_index)\n",
    "        size=size-len(min_index)"
   ]
  }
 ],
 "metadata": {
  "language_info": {
   "name": "python"
  }
 },
 "nbformat": 4,
 "nbformat_minor": 2
}
