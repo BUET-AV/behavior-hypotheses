{
 "cells": [
  {
   "cell_type": "code",
   "execution_count": 1,
   "id": "de6d7194-6563-4fa5-a055-491918ce36fa",
   "metadata": {
    "tags": []
   },
   "outputs": [],
   "source": [
    "# dataDir = \"/home/ababil/BUET/AV/csv\"\n",
    "dataDir = \"D:/AV/Code/location-2\"\n",
    "# dataDir = \"D:/AV/DataSetExploration/drone-dataset-tools/data/location-2\""
   ]
  },
  {
   "cell_type": "code",
   "execution_count": 2,
   "id": "03c1e3fe-48fa-4fd3-b6bd-da874004e320",
   "metadata": {
    "tags": []
   },
   "outputs": [
    {
     "name": "stdout",
     "output_type": "stream",
     "text": [
      "current working dirD:\\AV\\Code\\behavior-hypotheses\\src\n"
     ]
    }
   ],
   "source": [
    "exec(open('init_notebook.py').read())"
   ]
  },
  {
   "cell_type": "code",
   "execution_count": 3,
   "id": "8847eec4-6688-4416-8219-f881ea07cddf",
   "metadata": {},
   "outputs": [],
   "source": [
    "%load_ext autoreload\n",
    "%autoreload 2"
   ]
  },
  {
   "cell_type": "code",
   "execution_count": 4,
   "id": "4fac9614-f46b-4db5-b97d-4396b066af88",
   "metadata": {},
   "outputs": [],
   "source": [
    "import pandas as pd\n",
    "import os\n",
    "import seaborn as sns\n",
    "import matplotlib.pyplot as plt\n",
    "import numpy as np\n",
    "import math\n",
    "\n",
    "from tti_dataset_tools.TrajectoryTransformer import TrajectoryTransformer\n",
    "from tti_dataset_tools.TrajectoryVisualizer import TrajectoryVisualizer\n",
    "from tti_dataset_tools.TrajectoryCleaner import TrajectoryCleaner\n",
    "from tti_dataset_tools.ColMapper import ColMapper"
   ]
  },
  {
   "cell_type": "code",
   "execution_count": 5,
   "id": "534999bb-94b1-4f95-ba4b-0f3fec272c5a",
   "metadata": {},
   "outputs": [],
   "source": [
    "sceneId = 210\n",
    "sceneId2 = 211\n",
    "date = \"2023-05-04\"\n",
    "fps=10\n",
    "minYDisplacement = 5\n",
    "maxXDisplacement = 6\n",
    "pedDf = pd.read_csv(os.path.join(dataDir, f\"{date}-fps-{fps}-scene-{sceneId}-pedestrians.csv\"))\n",
    "pedDf2 = pd.read_csv(os.path.join(dataDir, f\"{date}-fps-{fps}-scene-{sceneId2}-pedestrians.csv\"))\n",
    "# otherDf = pd.read_csv(os.path.join(dataDir, f\"{date}-fps-{fps}-scene-{sceneId}-others.csv\"))\n",
    "tracksMeta = pd.read_csv(os.path.join(dataDir, f\"{date}-fps-{fps}-scene-{sceneId}-meta.csv\"))"
   ]
  },
  {
   "cell_type": "code",
   "execution_count": 6,
   "id": "e05f992f-08c9-4107-9c65-7759937ef575",
   "metadata": {},
   "outputs": [],
   "source": [
    "visualizer = TrajectoryVisualizer()\n",
    "colMapper = ColMapper(\n",
    "        idCol='uniqueTrackId', \n",
    "        xCol='sceneX', \n",
    "        yCol='sceneY',\n",
    "        xVelCol='sceneXVelocity', \n",
    "        yVelCol='sceneYVelocity', \n",
    "        speedCol='speed',\n",
    "        xAccCol='sceneXAcceleration',\n",
    "        yAccCol='sceneYAcceleration',\n",
    "        accelerationCol='acceleration'\n",
    "        \n",
    "    \n",
    "    )\n",
    "transformer = TrajectoryTransformer(colMapper)\n",
    "cleaner = TrajectoryCleaner(\n",
    "    colMapper = colMapper,\n",
    "    minSpeed = 0.0, # we can consider them as obstacles\n",
    "    maxSpeed = 3.5,\n",
    "    minAcceleration = -10.0,\n",
    "    maxAcceleration = 10.0,\n",
    "    minYDisplacement = minYDisplacement,\n",
    "    maxXDisplacement = maxXDisplacement\n",
    ")\n",
    "transformer.deriveSpeed(pedDf)\n",
    "transformer.deriveDisplacements(pedDf)\n",
    "transformer.deriveAcceleration(pedDf)\n",
    "\n",
    "transformer.deriveSpeed(pedDf2)\n",
    "transformer.deriveDisplacements(pedDf2)\n",
    "transformer.deriveAcceleration(pedDf2)"
   ]
  },
  {
   "cell_type": "code",
   "execution_count": null,
   "id": "cbcaed03-6a09-4cf1-aa2c-e2e956962ad2",
   "metadata": {},
   "outputs": [],
   "source": []
  },
  {
   "cell_type": "code",
   "execution_count": 7,
   "id": "360297e8-540b-4b4e-9f71-ea5008e925a2",
   "metadata": {},
   "outputs": [
    {
     "name": "stdout",
     "output_type": "stream",
     "text": [
      "using min Y displacement (5)\n"
     ]
    },
    {
     "data": {
      "text/plain": [
       "7600"
      ]
     },
     "execution_count": 7,
     "metadata": {},
     "output_type": "execute_result"
    }
   ],
   "source": [
    "cleanPedDf = cleaner.cleanByYDisplacement(pedDf, byIQR=False)\n",
    "\n",
    "# visualizer.show(pedDf, idCol = 'uniqueTrackId', xCol = 'sceneX', yCol = 'sceneY')\n",
    "# visualizer.show(cleanPedDf, idCol = 'uniqueTrackId', xCol = 'sceneX', yCol = 'sceneY')\n",
    "allPedIds = list(cleanPedDf[\"uniqueTrackId\"].unique())\n",
    "transformer.translateAllToLocalSource(cleanPedDf)\n",
    "\n",
    "southIds = []\n",
    "for pedId in allPedIds:\n",
    "    trackDf = cleanPedDf[cleanPedDf[\"uniqueTrackId\"] == pedId]\n",
    "    trackMeta = tracksMeta[tracksMeta[\"uniqueTrackId\"] == pedId].iloc[0]\n",
    "    # print(trackMeta['verticalDirection'])\n",
    "    if trackMeta['verticalDirection'] == \"SOUTH\":\n",
    "        southIds.append(pedId)\n",
    "        # print(trackMeta[\"uniqueTrackId\"])\n",
    "        X, Y = transformer.rotate(trackDf)\n",
    "        cleanPedDf.loc[cleanPedDf[\"uniqueTrackId\"] == pedId, 'localX'] = X\n",
    "        cleanPedDf.loc[cleanPedDf[\"uniqueTrackId\"] == pedId, 'localY'] = Y\n",
    "len(cleanPedDf)\n"
   ]
  },
  {
   "cell_type": "code",
   "execution_count": 8,
   "id": "9d82831c-722d-43f5-8fca-bc4a59b11471",
   "metadata": {},
   "outputs": [],
   "source": [
    "startingDf = cleanPedDf[cleanPedDf[\"displacementY\"] < 1].copy()\n",
    "midDf = cleanPedDf[(cleanPedDf[\"displacementY\"] >= 1) & (cleanPedDf[\"displacementY\"] < 4)].copy()\n",
    "endDf = cleanPedDf[(cleanPedDf[\"displacementY\"] >= 4)].copy()\n",
    "\n",
    "list1 = [startingDf['speed'], midDf['speed'], endDf['speed']]"
   ]
  },
  {
   "cell_type": "code",
   "execution_count": 9,
   "id": "0d46fd3f-5d2d-45d1-8237-c944be60e486",
   "metadata": {},
   "outputs": [
    {
     "data": {
      "text/html": [
       "<div>\n",
       "<style scoped>\n",
       "    .dataframe tbody tr th:only-of-type {\n",
       "        vertical-align: middle;\n",
       "    }\n",
       "\n",
       "    .dataframe tbody tr th {\n",
       "        vertical-align: top;\n",
       "    }\n",
       "\n",
       "    .dataframe thead th {\n",
       "        text-align: right;\n",
       "    }\n",
       "</style>\n",
       "<table border=\"1\" class=\"dataframe\">\n",
       "  <thead>\n",
       "    <tr style=\"text-align: right;\">\n",
       "      <th></th>\n",
       "      <th>recordingId</th>\n",
       "      <th>frame</th>\n",
       "      <th>uniqueTrackId</th>\n",
       "      <th>sceneId</th>\n",
       "      <th>roadWidth</th>\n",
       "      <th>sceneX</th>\n",
       "      <th>sceneY</th>\n",
       "      <th>sceneXVelocity</th>\n",
       "      <th>sceneYVelocity</th>\n",
       "      <th>sceneXAcceleration</th>\n",
       "      <th>sceneYAcceleration</th>\n",
       "      <th>speed</th>\n",
       "      <th>displacementX</th>\n",
       "      <th>displacementY</th>\n",
       "      <th>acceleration</th>\n",
       "      <th>localX</th>\n",
       "      <th>localY</th>\n",
       "    </tr>\n",
       "  </thead>\n",
       "  <tbody>\n",
       "    <tr>\n",
       "      <th>0</th>\n",
       "      <td>18</td>\n",
       "      <td>750</td>\n",
       "      <td>18023</td>\n",
       "      <td>210</td>\n",
       "      <td>5.0</td>\n",
       "      <td>0.629400</td>\n",
       "      <td>2.454854</td>\n",
       "      <td>-0.047612</td>\n",
       "      <td>0.481508</td>\n",
       "      <td>-0.044860</td>\n",
       "      <td>-0.028943</td>\n",
       "      <td>0.483857</td>\n",
       "      <td>0.000000</td>\n",
       "      <td>0.000000</td>\n",
       "      <td>0.053387</td>\n",
       "      <td>-0.000000</td>\n",
       "      <td>-0.000000</td>\n",
       "    </tr>\n",
       "    <tr>\n",
       "      <th>1</th>\n",
       "      <td>18</td>\n",
       "      <td>752</td>\n",
       "      <td>18023</td>\n",
       "      <td>210</td>\n",
       "      <td>5.0</td>\n",
       "      <td>0.637141</td>\n",
       "      <td>2.358691</td>\n",
       "      <td>-0.038708</td>\n",
       "      <td>0.480816</td>\n",
       "      <td>-0.044520</td>\n",
       "      <td>0.003463</td>\n",
       "      <td>0.482371</td>\n",
       "      <td>0.007742</td>\n",
       "      <td>0.096163</td>\n",
       "      <td>0.044655</td>\n",
       "      <td>-0.007742</td>\n",
       "      <td>0.096163</td>\n",
       "    </tr>\n",
       "    <tr>\n",
       "      <th>2</th>\n",
       "      <td>18</td>\n",
       "      <td>754</td>\n",
       "      <td>18023</td>\n",
       "      <td>210</td>\n",
       "      <td>5.0</td>\n",
       "      <td>0.644921</td>\n",
       "      <td>2.261374</td>\n",
       "      <td>-0.038896</td>\n",
       "      <td>0.486585</td>\n",
       "      <td>0.000940</td>\n",
       "      <td>-0.028846</td>\n",
       "      <td>0.488137</td>\n",
       "      <td>0.015521</td>\n",
       "      <td>0.193480</td>\n",
       "      <td>0.028862</td>\n",
       "      <td>-0.015521</td>\n",
       "      <td>0.193480</td>\n",
       "    </tr>\n",
       "    <tr>\n",
       "      <th>3</th>\n",
       "      <td>18</td>\n",
       "      <td>756</td>\n",
       "      <td>18023</td>\n",
       "      <td>210</td>\n",
       "      <td>5.0</td>\n",
       "      <td>0.653314</td>\n",
       "      <td>2.163065</td>\n",
       "      <td>-0.041969</td>\n",
       "      <td>0.491544</td>\n",
       "      <td>0.015368</td>\n",
       "      <td>-0.024797</td>\n",
       "      <td>0.493333</td>\n",
       "      <td>0.023915</td>\n",
       "      <td>0.291789</td>\n",
       "      <td>0.029173</td>\n",
       "      <td>-0.023915</td>\n",
       "      <td>0.291789</td>\n",
       "    </tr>\n",
       "    <tr>\n",
       "      <th>4</th>\n",
       "      <td>18</td>\n",
       "      <td>758</td>\n",
       "      <td>18023</td>\n",
       "      <td>210</td>\n",
       "      <td>5.0</td>\n",
       "      <td>0.661952</td>\n",
       "      <td>2.065082</td>\n",
       "      <td>-0.043190</td>\n",
       "      <td>0.489915</td>\n",
       "      <td>0.006105</td>\n",
       "      <td>0.008146</td>\n",
       "      <td>0.491815</td>\n",
       "      <td>0.032553</td>\n",
       "      <td>0.389772</td>\n",
       "      <td>0.010180</td>\n",
       "      <td>-0.032553</td>\n",
       "      <td>0.389772</td>\n",
       "    </tr>\n",
       "  </tbody>\n",
       "</table>\n",
       "</div>"
      ],
      "text/plain": [
       "   recordingId  frame  uniqueTrackId  sceneId  roadWidth    sceneX    sceneY  \\\n",
       "0           18    750          18023      210        5.0  0.629400  2.454854   \n",
       "1           18    752          18023      210        5.0  0.637141  2.358691   \n",
       "2           18    754          18023      210        5.0  0.644921  2.261374   \n",
       "3           18    756          18023      210        5.0  0.653314  2.163065   \n",
       "4           18    758          18023      210        5.0  0.661952  2.065082   \n",
       "\n",
       "   sceneXVelocity  sceneYVelocity  sceneXAcceleration  sceneYAcceleration  \\\n",
       "0       -0.047612        0.481508           -0.044860           -0.028943   \n",
       "1       -0.038708        0.480816           -0.044520            0.003463   \n",
       "2       -0.038896        0.486585            0.000940           -0.028846   \n",
       "3       -0.041969        0.491544            0.015368           -0.024797   \n",
       "4       -0.043190        0.489915            0.006105            0.008146   \n",
       "\n",
       "      speed  displacementX  displacementY  acceleration    localX    localY  \n",
       "0  0.483857       0.000000       0.000000      0.053387 -0.000000 -0.000000  \n",
       "1  0.482371       0.007742       0.096163      0.044655 -0.007742  0.096163  \n",
       "2  0.488137       0.015521       0.193480      0.028862 -0.015521  0.193480  \n",
       "3  0.493333       0.023915       0.291789      0.029173 -0.023915  0.291789  \n",
       "4  0.491815       0.032553       0.389772      0.010180 -0.032553  0.389772  "
      ]
     },
     "execution_count": 9,
     "metadata": {},
     "output_type": "execute_result"
    }
   ],
   "source": [
    "cleanPedDf.head()"
   ]
  },
  {
   "cell_type": "code",
   "execution_count": 11,
   "id": "9260b39c-7f73-4ba5-bdb4-e2caf8a06968",
   "metadata": {},
   "outputs": [
    {
     "data": {
      "text/plain": [
       "170"
      ]
     },
     "execution_count": 11,
     "metadata": {},
     "output_type": "execute_result"
    }
   ],
   "source": [
    "uniqueTrackIds = cleanPedDf['uniqueTrackId'].unique()\n",
    "len(uniqueTrackIds)"
   ]
  },
  {
   "cell_type": "code",
   "execution_count": 12,
   "id": "e0ea6a87-dcf5-4236-8810-7702ca1a2c6c",
   "metadata": {},
   "outputs": [
    {
     "data": {
      "text/html": [
       "<div>\n",
       "<style scoped>\n",
       "    .dataframe tbody tr th:only-of-type {\n",
       "        vertical-align: middle;\n",
       "    }\n",
       "\n",
       "    .dataframe tbody tr th {\n",
       "        vertical-align: top;\n",
       "    }\n",
       "\n",
       "    .dataframe thead th {\n",
       "        text-align: right;\n",
       "    }\n",
       "</style>\n",
       "<table border=\"1\" class=\"dataframe\">\n",
       "  <thead>\n",
       "    <tr style=\"text-align: right;\">\n",
       "      <th></th>\n",
       "      <th>uniqueTrackId</th>\n",
       "    </tr>\n",
       "  </thead>\n",
       "  <tbody>\n",
       "    <tr>\n",
       "      <th>0</th>\n",
       "      <td>18023</td>\n",
       "    </tr>\n",
       "    <tr>\n",
       "      <th>1</th>\n",
       "      <td>18069</td>\n",
       "    </tr>\n",
       "    <tr>\n",
       "      <th>2</th>\n",
       "      <td>18090</td>\n",
       "    </tr>\n",
       "    <tr>\n",
       "      <th>3</th>\n",
       "      <td>18121</td>\n",
       "    </tr>\n",
       "    <tr>\n",
       "      <th>4</th>\n",
       "      <td>18134</td>\n",
       "    </tr>\n",
       "  </tbody>\n",
       "</table>\n",
       "</div>"
      ],
      "text/plain": [
       "   uniqueTrackId\n",
       "0          18023\n",
       "1          18069\n",
       "2          18090\n",
       "3          18121\n",
       "4          18134"
      ]
     },
     "execution_count": 12,
     "metadata": {},
     "output_type": "execute_result"
    }
   ],
   "source": [
    "newData = { 'uniqueTrackId': uniqueTrackIds }\n",
    "uniquePedDf = pd.DataFrame(newData)\n",
    "uniquePedDf.head()"
   ]
  },
  {
   "cell_type": "code",
   "execution_count": 16,
   "id": "800628c1-0266-4f3d-aa7a-91e48fb89632",
   "metadata": {},
   "outputs": [
    {
     "data": {
      "text/html": [
       "<div>\n",
       "<style scoped>\n",
       "    .dataframe tbody tr th:only-of-type {\n",
       "        vertical-align: middle;\n",
       "    }\n",
       "\n",
       "    .dataframe tbody tr th {\n",
       "        vertical-align: top;\n",
       "    }\n",
       "\n",
       "    .dataframe thead th {\n",
       "        text-align: right;\n",
       "    }\n",
       "</style>\n",
       "<table border=\"1\" class=\"dataframe\">\n",
       "  <thead>\n",
       "    <tr style=\"text-align: right;\">\n",
       "      <th></th>\n",
       "      <th>uniqueTrackId</th>\n",
       "      <th>startingTopSpeed</th>\n",
       "      <th>midTopSpeed</th>\n",
       "      <th>endTopSpeed</th>\n",
       "    </tr>\n",
       "  </thead>\n",
       "  <tbody>\n",
       "    <tr>\n",
       "      <th>0</th>\n",
       "      <td>18023</td>\n",
       "      <td>0</td>\n",
       "      <td>0</td>\n",
       "      <td>0</td>\n",
       "    </tr>\n",
       "    <tr>\n",
       "      <th>1</th>\n",
       "      <td>18069</td>\n",
       "      <td>0</td>\n",
       "      <td>0</td>\n",
       "      <td>0</td>\n",
       "    </tr>\n",
       "    <tr>\n",
       "      <th>2</th>\n",
       "      <td>18090</td>\n",
       "      <td>0</td>\n",
       "      <td>0</td>\n",
       "      <td>0</td>\n",
       "    </tr>\n",
       "    <tr>\n",
       "      <th>3</th>\n",
       "      <td>18121</td>\n",
       "      <td>0</td>\n",
       "      <td>0</td>\n",
       "      <td>0</td>\n",
       "    </tr>\n",
       "    <tr>\n",
       "      <th>4</th>\n",
       "      <td>18134</td>\n",
       "      <td>0</td>\n",
       "      <td>0</td>\n",
       "      <td>0</td>\n",
       "    </tr>\n",
       "  </tbody>\n",
       "</table>\n",
       "</div>"
      ],
      "text/plain": [
       "   uniqueTrackId  startingTopSpeed  midTopSpeed  endTopSpeed\n",
       "0          18023                 0            0            0\n",
       "1          18069                 0            0            0\n",
       "2          18090                 0            0            0\n",
       "3          18121                 0            0            0\n",
       "4          18134                 0            0            0"
      ]
     },
     "execution_count": 16,
     "metadata": {},
     "output_type": "execute_result"
    }
   ],
   "source": [
    "uniquePedDf['startingTopSpeed'] = [0] * len(uniquePedDf)\n",
    "uniquePedDf['midTopSpeed'] = [0] * len(uniquePedDf)\n",
    "uniquePedDf['endTopSpeed'] = [0] * len(uniquePedDf)\n",
    "\n",
    "uniquePedDf.head()"
   ]
  },
  {
   "cell_type": "code",
   "execution_count": 25,
   "id": "6cbe3070-1b05-40c4-9d6c-9f7072334cb9",
   "metadata": {},
   "outputs": [
    {
     "name": "stdout",
     "output_type": "stream",
     "text": [
      "0.4997371409051065 0.515984362650666 0.4783609332920143\n"
     ]
    }
   ],
   "source": [
    "trackId = 18023\n",
    "def putStartingTopSpeed(trackId):\n",
    "    uniqueStartingDf = startingDf[startingDf['uniqueTrackId'] == trackId].copy() \n",
    "    return max(uniqueStartingDf['speed'])\n",
    "\n",
    "def putMidTopSpeed(trackId):\n",
    "    uniqueMidDf = midDf[midDf['uniqueTrackId'] == trackId].copy() \n",
    "    return max(uniqueMidDf['speed'])\n",
    "\n",
    "def putEndTopSpeed(trackId):\n",
    "    uniqueEndDf = endDf[endDf['uniqueTrackId'] == trackId].copy() \n",
    "    return max(uniqueEndDf['speed'])\n",
    "\n",
    "print(putStartingTopSpeed(trackId), putMidTopSpeed(trackId), putEndTopSpeed(trackId))"
   ]
  },
  {
   "cell_type": "code",
   "execution_count": null,
   "id": "887781b1-e7f8-4052-8032-fbd623462cee",
   "metadata": {},
   "outputs": [],
   "source": [
    "uniquePedDf['startingTopSpeed'] = "
   ]
  },
  {
   "cell_type": "code",
   "execution_count": 15,
   "id": "3df677a5-cc53-4bac-a615-c150785d55e6",
   "metadata": {},
   "outputs": [
    {
     "name": "stdout",
     "output_type": "stream",
     "text": [
      "18023 18069 18090 18121 18134 18180 18214 18225 18304 18311 18313 18382 19045 19055 19057 19070 19133 19199 19283 19295 19320 20043 20054 20083 20098 20121 20131 20219 20263 20279 20327 20362 20369 20376 20383 20475 21040 21063 21068 21115 21116 21125 21168 21169 21178 21185 21189 21190 21193 21223 21237 21285 21303 21404 21408 21413 21459 21472 21510 21518 22005 22133 22135 22151 22171 22184 22251 22297 22298 22451 22499 22516 23001 23053 23147 23156 23188 23235 23248 23249 23273 23274 23275 23391 23410 23431 23486 23514 24063 24064 24095 24122 24125 24132 24187 24291 24295 24297 24317 24420 25170 25205 25245 25348 25377 25407 25428 25468 25500 25501 25524 26070 26129 26138 26186 26192 26230 26249 26472 27047 27100 27119 27193 27288 27292 27304 27305 27343 27359 27361 27365 27384 27406 27425 27448 27488 27490 27492 27532 27536 27540 27567 28023 28055 28062 28090 28134 28211 28268 28320 28321 28351 28383 28422 28428 28452 28467 28474 29000 29211 29221 29235 29261 29266 29340 29353 29439 29498 29530 29534 "
     ]
    }
   ],
   "source": [
    "  "
   ]
  },
  {
   "cell_type": "code",
   "execution_count": null,
   "id": "864c5ab9-56ba-4d1d-844b-88aacb9fab02",
   "metadata": {},
   "outputs": [],
   "source": []
  }
 ],
 "metadata": {
  "kernelspec": {
   "display_name": "Python 3 (ipykernel)",
   "language": "python",
   "name": "python3"
  },
  "language_info": {
   "codemirror_mode": {
    "name": "ipython",
    "version": 3
   },
   "file_extension": ".py",
   "mimetype": "text/x-python",
   "name": "python",
   "nbconvert_exporter": "python",
   "pygments_lexer": "ipython3",
   "version": "3.8.10"
  }
 },
 "nbformat": 4,
 "nbformat_minor": 5
}
