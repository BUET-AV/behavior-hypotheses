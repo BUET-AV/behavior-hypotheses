{
 "cells": [
  {
   "cell_type": "code",
   "execution_count": 6,
   "metadata": {},
   "outputs": [],
   "source": [
    "dataDir = \"/home/ababil/BUET/AV/location-2\"     # Ababil\n",
    "# dataDir = \"D:/AV/Code/location-2\"               # Pushpita\n",
    "dataDir = \"D:/AV/DataSetExploration/drone-dataset-tools/data/location-2\""
   ]
  },
  {
   "cell_type": "code",
   "execution_count": 7,
   "metadata": {},
   "outputs": [
    {
     "ename": "FileNotFoundError",
     "evalue": "[Errno 2] No such file or directory: 'init_notebook.py'",
     "output_type": "error",
     "traceback": [
      "\u001b[1;31m---------------------------------------------------------------------------\u001b[0m",
      "\u001b[1;31mFileNotFoundError\u001b[0m                         Traceback (most recent call last)",
      "Cell \u001b[1;32mIn[7], line 1\u001b[0m\n\u001b[1;32m----> 1\u001b[0m exec(\u001b[38;5;28;43mopen\u001b[39;49m\u001b[43m(\u001b[49m\u001b[38;5;124;43m'\u001b[39;49m\u001b[38;5;124;43minit_notebook.py\u001b[39;49m\u001b[38;5;124;43m'\u001b[39;49m\u001b[43m)\u001b[49m\u001b[38;5;241m.\u001b[39mread())\n",
      "File \u001b[1;32m~\\anaconda3\\envs\\tti\\lib\\site-packages\\IPython\\core\\interactiveshell.py:282\u001b[0m, in \u001b[0;36m_modified_open\u001b[1;34m(file, *args, **kwargs)\u001b[0m\n\u001b[0;32m    275\u001b[0m \u001b[38;5;28;01mif\u001b[39;00m file \u001b[38;5;129;01min\u001b[39;00m {\u001b[38;5;241m0\u001b[39m, \u001b[38;5;241m1\u001b[39m, \u001b[38;5;241m2\u001b[39m}:\n\u001b[0;32m    276\u001b[0m     \u001b[38;5;28;01mraise\u001b[39;00m \u001b[38;5;167;01mValueError\u001b[39;00m(\n\u001b[0;32m    277\u001b[0m         \u001b[38;5;124mf\u001b[39m\u001b[38;5;124m\"\u001b[39m\u001b[38;5;124mIPython won\u001b[39m\u001b[38;5;124m'\u001b[39m\u001b[38;5;124mt let you open fd=\u001b[39m\u001b[38;5;132;01m{\u001b[39;00mfile\u001b[38;5;132;01m}\u001b[39;00m\u001b[38;5;124m by default \u001b[39m\u001b[38;5;124m\"\u001b[39m\n\u001b[0;32m    278\u001b[0m         \u001b[38;5;124m\"\u001b[39m\u001b[38;5;124mas it is likely to crash IPython. If you know what you are doing, \u001b[39m\u001b[38;5;124m\"\u001b[39m\n\u001b[0;32m    279\u001b[0m         \u001b[38;5;124m\"\u001b[39m\u001b[38;5;124myou can use builtins\u001b[39m\u001b[38;5;124m'\u001b[39m\u001b[38;5;124m open.\u001b[39m\u001b[38;5;124m\"\u001b[39m\n\u001b[0;32m    280\u001b[0m     )\n\u001b[1;32m--> 282\u001b[0m \u001b[38;5;28;01mreturn\u001b[39;00m \u001b[43mio_open\u001b[49m\u001b[43m(\u001b[49m\u001b[43mfile\u001b[49m\u001b[43m,\u001b[49m\u001b[43m \u001b[49m\u001b[38;5;241;43m*\u001b[39;49m\u001b[43margs\u001b[49m\u001b[43m,\u001b[49m\u001b[43m \u001b[49m\u001b[38;5;241;43m*\u001b[39;49m\u001b[38;5;241;43m*\u001b[39;49m\u001b[43mkwargs\u001b[49m\u001b[43m)\u001b[49m\n",
      "\u001b[1;31mFileNotFoundError\u001b[0m: [Errno 2] No such file or directory: 'init_notebook.py'"
     ]
    }
   ],
   "source": [
    "exec(open('init_notebook.py').read())"
   ]
  },
  {
   "cell_type": "code",
   "execution_count": 8,
   "metadata": {},
   "outputs": [
    {
     "name": "stdout",
     "output_type": "stream",
     "text": [
      "The autoreload extension is already loaded. To reload it, use:\n",
      "  %reload_ext autoreload\n"
     ]
    }
   ],
   "source": [
    "%load_ext autoreload\n",
    "%autoreload 2"
   ]
  },
  {
   "cell_type": "code",
   "execution_count": 9,
   "metadata": {},
   "outputs": [],
   "source": [
    "import pandas as pd\n",
    "import os\n",
    "import seaborn as sns\n",
    "import matplotlib.pyplot as plt\n",
    "import numpy as np\n",
    "import math\n",
    "\n",
    "from tti_dataset_tools.TrajectoryTransformer import TrajectoryTransformer\n",
    "from tti_dataset_tools.TrajectoryVisualizer import TrajectoryVisualizer\n",
    "from tti_dataset_tools.TrajectoryCleaner import TrajectoryCleaner\n",
    "from tti_dataset_tools.ColMapper import ColMapper"
   ]
  },
  {
   "cell_type": "markdown",
   "metadata": {},
   "source": [
    "### Scenes \n",
    "| Scene | Min Y | Max X |\n",
    "|-------|-------|-------|\n",
    "| 210   | 5     | 6     |\n",
    "| 211   | 5     | 6     |\n",
    "| 220   | 6     | 6     |\n",
    "| 221   | 9     | 6     |\n",
    "| 222   | 9     | 6     |\n",
    "| 230   | 6     | 6     |\n",
    "| 231   | 2     | 6     |\n",
    "| 240   | 6     | 6     |\n",
    "\n",
    "- What does minYDisplacement and maxXDisplacement mean? \n"
   ]
  },
  {
   "cell_type": "code",
   "execution_count": 19,
   "metadata": {},
   "outputs": [],
   "source": [
    "sceneId = 222\n",
    "date = \"2023-05-04\"\n",
    "fps=10\n",
    "minYDisplacement = 6\n",
    "maxXDisplacement = 6\n",
    "pedDf = pd.read_csv(os.path.join(dataDir, f\"{date}-fps-{fps}-scene-{sceneId}-pedestrians.csv\"))\n",
    "otherDf = pd.read_csv(os.path.join(dataDir, f\"{date}-fps-{fps}-scene-{sceneId}-others.csv\"))\n",
    "tracksMeta = pd.read_csv(os.path.join(dataDir, f\"{date}-fps-{fps}-scene-{sceneId}-meta.csv\"))"
   ]
  },
  {
   "cell_type": "code",
   "execution_count": 20,
   "metadata": {},
   "outputs": [],
   "source": [
    "# # unique of roadWidth\n",
    "# print(pedDf['roadWidth'].unique())\n",
    "\n",
    "# pedDf"
   ]
  },
  {
   "cell_type": "code",
   "execution_count": 22,
   "metadata": {},
   "outputs": [
    {
     "ename": "AttributeError",
     "evalue": "'TrajectoryTransformer' object has no attribute 'deriveAxisVelocities'",
     "output_type": "error",
     "traceback": [
      "\u001b[1;31m---------------------------------------------------------------------------\u001b[0m",
      "\u001b[1;31mAttributeError\u001b[0m                            Traceback (most recent call last)",
      "Cell \u001b[1;32mIn[22], line 23\u001b[0m\n\u001b[0;32m     13\u001b[0m transformer \u001b[38;5;241m=\u001b[39m TrajectoryTransformer(colMapper)\n\u001b[0;32m     14\u001b[0m cleaner \u001b[38;5;241m=\u001b[39m TrajectoryCleaner(\n\u001b[0;32m     15\u001b[0m     colMapper \u001b[38;5;241m=\u001b[39m colMapper,\n\u001b[0;32m     16\u001b[0m     minSpeed \u001b[38;5;241m=\u001b[39m \u001b[38;5;241m0.0\u001b[39m, \u001b[38;5;66;03m# we can consider them as obstacles\u001b[39;00m\n\u001b[1;32m   (...)\u001b[0m\n\u001b[0;32m     21\u001b[0m     maxXDisplacement \u001b[38;5;241m=\u001b[39m maxXDisplacement\n\u001b[0;32m     22\u001b[0m )\n\u001b[1;32m---> 23\u001b[0m \u001b[43mtransformer\u001b[49m\u001b[38;5;241;43m.\u001b[39;49m\u001b[43mderiveAxisVelocities\u001b[49m(pedDf)\n\u001b[0;32m     24\u001b[0m transformer\u001b[38;5;241m.\u001b[39mderiveSpeed(pedDf)\n\u001b[0;32m     25\u001b[0m transformer\u001b[38;5;241m.\u001b[39mderiveDisplacements(pedDf)\n",
      "\u001b[1;31mAttributeError\u001b[0m: 'TrajectoryTransformer' object has no attribute 'deriveAxisVelocities'"
     ]
    }
   ],
   "source": [
    "visualizer = TrajectoryVisualizer()\n",
    "colMapper = ColMapper(\n",
    "        idCol='uniqueTrackId', \n",
    "        xCol='sceneX', \n",
    "        yCol='sceneY',\n",
    "        xVelCol='sceneXVelocity', \n",
    "        yVelCol='sceneYVelocity', \n",
    "        speedCol='speed',\n",
    "        xAccCol='sceneXAcceleration',\n",
    "        yAccCol='sceneYAcceleration',\n",
    "        accelerationCol='acceleration'\n",
    "    )\n",
    "transformer = TrajectoryTransformer(colMapper)\n",
    "cleaner = TrajectoryCleaner(\n",
    "    colMapper = colMapper,\n",
    "    minSpeed = 0.0, # we can consider them as obstacles\n",
    "    maxSpeed = 3.5,\n",
    "    minAcceleration = -10.0,\n",
    "    maxAcceleration = 10.0,\n",
    "    minYDisplacement = minYDisplacement,\n",
    "    maxXDisplacement = maxXDisplacement\n",
    ")\n",
    "transformer.deriveAxisVelocities(pedDf)\n",
    "transformer.deriveSpeed(pedDf)\n",
    "transformer.deriveDisplacements(pedDf)\n",
    "transformer.deriveAcceleration(pedDf)\n",
    "\n",
    "plt.boxplot(pedDf['displacementY'])\n",
    "plt.show()\n",
    "plt.boxplot(pedDf['speed'])\n",
    "plt.show()"
   ]
  },
  {
   "cell_type": "code",
   "execution_count": 16,
   "metadata": {},
   "outputs": [
    {
     "name": "stdout",
     "output_type": "stream",
     "text": [
      "using min Y displacement (6)\n"
     ]
    },
    {
     "data": {
      "text/plain": [
       "3643"
      ]
     },
     "execution_count": 16,
     "metadata": {},
     "output_type": "execute_result"
    }
   ],
   "source": [
    "cleanPedDf = cleaner.cleanByYDisplacement(pedDf, byIQR=False)\n",
    "\n",
    "# visualizer.show(pedDf, idCol = 'uniqueTrackId', xCol = 'sceneX', yCol = 'sceneY')\n",
    "# visualizer.show(cleanPedDf, idCol = 'uniqueTrackId', xCol = 'sceneX', yCol = 'sceneY')\n",
    "allPedIds = list(cleanPedDf[\"uniqueTrackId\"].unique())\n",
    "transformer.translateAllToLocalSource(cleanPedDf)\n",
    "\n",
    "southIds = []\n",
    "for pedId in allPedIds:\n",
    "    trackDf = cleanPedDf[cleanPedDf[\"uniqueTrackId\"] == pedId]\n",
    "    trackMeta = tracksMeta[tracksMeta[\"uniqueTrackId\"] == pedId].iloc[0]\n",
    "    # print(trackMeta['verticalDirection'])\n",
    "    if trackMeta['verticalDirection'] == \"SOUTH\":\n",
    "        southIds.append(pedId)\n",
    "        # print(trackMeta[\"uniqueTrackId\"])\n",
    "        X, Y = transformer.rotate(trackDf)\n",
    "        cleanPedDf.loc[cleanPedDf[\"uniqueTrackId\"] == pedId, 'localX'] = X\n",
    "        cleanPedDf.loc[cleanPedDf[\"uniqueTrackId\"] == pedId, 'localY'] = Y\n",
    "len(cleanPedDf)\n"
   ]
  },
  {
   "cell_type": "markdown",
   "metadata": {},
   "source": [
    "Check the trajectories by visualizing the scenes, and the dataframe."
   ]
  },
  {
   "cell_type": "code",
   "execution_count": 173,
   "metadata": {},
   "outputs": [
    {
     "data": {
      "image/png": "[encoded data removed]",
      "text/plain": [
       "<Figure size 640x480 with 1 Axes>"
      ]
     },
     "metadata": {},
     "output_type": "display_data"
    }
   ],
   "source": [
    "visualizer.show(cleanPedDf, idCol = 'uniqueTrackId', xCol = 'localX', yCol = 'localY')"
   ]
  },
  {
   "cell_type": "code",
   "execution_count": 174,
   "metadata": {},
   "outputs": [
    {
     "data": {
      "text/html": [
       "<div>\n",
       "<style scoped>\n",
       "    .dataframe tbody tr th:only-of-type {\n",
       "        vertical-align: middle;\n",
       "    }\n",
       "\n",
       "    .dataframe tbody tr th {\n",
       "        vertical-align: top;\n",
       "    }\n",
       "\n",
       "    .dataframe thead th {\n",
       "        text-align: right;\n",
       "    }\n",
       "</style>\n",
       "<table border=\"1\" class=\"dataframe\">\n",
       "  <thead>\n",
       "    <tr style=\"text-align: right;\">\n",
       "      <th></th>\n",
       "      <th>recordingId</th>\n",
       "      <th>frame</th>\n",
       "      <th>uniqueTrackId</th>\n",
       "      <th>sceneId</th>\n",
       "      <th>roadWidth</th>\n",
       "      <th>sceneX</th>\n",
       "      <th>sceneY</th>\n",
       "      <th>sceneXVelocity</th>\n",
       "      <th>sceneYVelocity</th>\n",
       "      <th>sceneXAcceleration</th>\n",
       "      <th>sceneYAcceleration</th>\n",
       "      <th>speed</th>\n",
       "      <th>displacementX</th>\n",
       "      <th>displacementY</th>\n",
       "      <th>acceleration</th>\n",
       "      <th>localX</th>\n",
       "      <th>localY</th>\n",
       "    </tr>\n",
       "  </thead>\n",
       "  <tbody>\n",
       "    <tr>\n",
       "      <th>1701</th>\n",
       "      <td>21</td>\n",
       "      <td>340</td>\n",
       "      <td>21003</td>\n",
       "      <td>240</td>\n",
       "      <td>6.0</td>\n",
       "      <td>2.122808</td>\n",
       "      <td>2.922780</td>\n",
       "      <td>0.144132</td>\n",
       "      <td>0.704056</td>\n",
       "      <td>-0.002516</td>\n",
       "      <td>-0.185806</td>\n",
       "      <td>0.718658</td>\n",
       "      <td>2.149189</td>\n",
       "      <td>0.040427</td>\n",
       "      <td>0.185823</td>\n",
       "      <td>-0.000000</td>\n",
       "      <td>-0.000000</td>\n",
       "    </tr>\n",
       "    <tr>\n",
       "      <th>1702</th>\n",
       "      <td>21</td>\n",
       "      <td>342</td>\n",
       "      <td>21003</td>\n",
       "      <td>240</td>\n",
       "      <td>6.0</td>\n",
       "      <td>2.093242</td>\n",
       "      <td>2.779816</td>\n",
       "      <td>0.147831</td>\n",
       "      <td>0.714821</td>\n",
       "      <td>-0.018494</td>\n",
       "      <td>-0.053825</td>\n",
       "      <td>0.729947</td>\n",
       "      <td>2.119623</td>\n",
       "      <td>0.102537</td>\n",
       "      <td>0.056913</td>\n",
       "      <td>0.029566</td>\n",
       "      <td>0.142964</td>\n",
       "    </tr>\n",
       "    <tr>\n",
       "      <th>1703</th>\n",
       "      <td>21</td>\n",
       "      <td>344</td>\n",
       "      <td>21003</td>\n",
       "      <td>240</td>\n",
       "      <td>6.0</td>\n",
       "      <td>2.067285</td>\n",
       "      <td>2.634641</td>\n",
       "      <td>0.129785</td>\n",
       "      <td>0.725876</td>\n",
       "      <td>0.090231</td>\n",
       "      <td>-0.055276</td>\n",
       "      <td>0.737387</td>\n",
       "      <td>2.093666</td>\n",
       "      <td>0.247712</td>\n",
       "      <td>0.105816</td>\n",
       "      <td>0.055523</td>\n",
       "      <td>0.288139</td>\n",
       "    </tr>\n",
       "    <tr>\n",
       "      <th>1704</th>\n",
       "      <td>21</td>\n",
       "      <td>346</td>\n",
       "      <td>21003</td>\n",
       "      <td>240</td>\n",
       "      <td>6.0</td>\n",
       "      <td>2.045431</td>\n",
       "      <td>2.487554</td>\n",
       "      <td>0.109271</td>\n",
       "      <td>0.735435</td>\n",
       "      <td>0.102572</td>\n",
       "      <td>-0.047795</td>\n",
       "      <td>0.743508</td>\n",
       "      <td>2.071811</td>\n",
       "      <td>0.394799</td>\n",
       "      <td>0.113161</td>\n",
       "      <td>0.077377</td>\n",
       "      <td>0.435226</td>\n",
       "    </tr>\n",
       "    <tr>\n",
       "      <th>1705</th>\n",
       "      <td>21</td>\n",
       "      <td>348</td>\n",
       "      <td>21003</td>\n",
       "      <td>240</td>\n",
       "      <td>6.0</td>\n",
       "      <td>2.029394</td>\n",
       "      <td>2.339475</td>\n",
       "      <td>0.080186</td>\n",
       "      <td>0.740394</td>\n",
       "      <td>0.145424</td>\n",
       "      <td>-0.024796</td>\n",
       "      <td>0.744724</td>\n",
       "      <td>2.055774</td>\n",
       "      <td>0.542878</td>\n",
       "      <td>0.147523</td>\n",
       "      <td>0.093414</td>\n",
       "      <td>0.583305</td>\n",
       "    </tr>\n",
       "    <tr>\n",
       "      <th>...</th>\n",
       "      <td>...</td>\n",
       "      <td>...</td>\n",
       "      <td>...</td>\n",
       "      <td>...</td>\n",
       "      <td>...</td>\n",
       "      <td>...</td>\n",
       "      <td>...</td>\n",
       "      <td>...</td>\n",
       "      <td>...</td>\n",
       "      <td>...</td>\n",
       "      <td>...</td>\n",
       "      <td>...</td>\n",
       "      <td>...</td>\n",
       "      <td>...</td>\n",
       "      <td>...</td>\n",
       "      <td>...</td>\n",
       "      <td>...</td>\n",
       "    </tr>\n",
       "    <tr>\n",
       "      <th>6257</th>\n",
       "      <td>26</td>\n",
       "      <td>25377</td>\n",
       "      <td>26437</td>\n",
       "      <td>240</td>\n",
       "      <td>6.0</td>\n",
       "      <td>-0.860836</td>\n",
       "      <td>-2.569047</td>\n",
       "      <td>0.011542</td>\n",
       "      <td>0.713318</td>\n",
       "      <td>0.000976</td>\n",
       "      <td>0.018743</td>\n",
       "      <td>0.713412</td>\n",
       "      <td>0.834455</td>\n",
       "      <td>5.451400</td>\n",
       "      <td>0.018768</td>\n",
       "      <td>0.829147</td>\n",
       "      <td>5.506991</td>\n",
       "    </tr>\n",
       "    <tr>\n",
       "      <th>6258</th>\n",
       "      <td>26</td>\n",
       "      <td>25379</td>\n",
       "      <td>26437</td>\n",
       "      <td>240</td>\n",
       "      <td>6.0</td>\n",
       "      <td>-0.862640</td>\n",
       "      <td>-2.708986</td>\n",
       "      <td>0.009023</td>\n",
       "      <td>0.699695</td>\n",
       "      <td>0.012596</td>\n",
       "      <td>0.068117</td>\n",
       "      <td>0.699753</td>\n",
       "      <td>0.836260</td>\n",
       "      <td>5.591339</td>\n",
       "      <td>0.069272</td>\n",
       "      <td>0.830952</td>\n",
       "      <td>5.646930</td>\n",
       "    </tr>\n",
       "    <tr>\n",
       "      <th>6259</th>\n",
       "      <td>26</td>\n",
       "      <td>25381</td>\n",
       "      <td>26437</td>\n",
       "      <td>240</td>\n",
       "      <td>6.0</td>\n",
       "      <td>-0.864081</td>\n",
       "      <td>-2.846484</td>\n",
       "      <td>0.007204</td>\n",
       "      <td>0.687489</td>\n",
       "      <td>0.009092</td>\n",
       "      <td>0.061030</td>\n",
       "      <td>0.687527</td>\n",
       "      <td>0.837701</td>\n",
       "      <td>5.728837</td>\n",
       "      <td>0.061703</td>\n",
       "      <td>0.832392</td>\n",
       "      <td>5.784428</td>\n",
       "    </tr>\n",
       "    <tr>\n",
       "      <th>6260</th>\n",
       "      <td>26</td>\n",
       "      <td>25383</td>\n",
       "      <td>26437</td>\n",
       "      <td>240</td>\n",
       "      <td>6.0</td>\n",
       "      <td>-0.865253</td>\n",
       "      <td>-2.982461</td>\n",
       "      <td>0.005860</td>\n",
       "      <td>0.679881</td>\n",
       "      <td>0.006722</td>\n",
       "      <td>0.038038</td>\n",
       "      <td>0.679907</td>\n",
       "      <td>0.838873</td>\n",
       "      <td>5.864814</td>\n",
       "      <td>0.038627</td>\n",
       "      <td>0.833564</td>\n",
       "      <td>5.920404</td>\n",
       "    </tr>\n",
       "    <tr>\n",
       "      <th>6261</th>\n",
       "      <td>26</td>\n",
       "      <td>25385</td>\n",
       "      <td>26437</td>\n",
       "      <td>240</td>\n",
       "      <td>6.0</td>\n",
       "      <td>-0.866789</td>\n",
       "      <td>-3.117753</td>\n",
       "      <td>0.007678</td>\n",
       "      <td>0.676460</td>\n",
       "      <td>-0.009093</td>\n",
       "      <td>0.017106</td>\n",
       "      <td>0.676504</td>\n",
       "      <td>0.840408</td>\n",
       "      <td>6.000106</td>\n",
       "      <td>0.019373</td>\n",
       "      <td>0.835100</td>\n",
       "      <td>6.055696</td>\n",
       "    </tr>\n",
       "  </tbody>\n",
       "</table>\n",
       "<p>234 rows × 17 columns</p>\n",
       "</div>"
      ],
      "text/plain": [
       "      recordingId  frame  uniqueTrackId  sceneId  roadWidth    sceneX  \\\n",
       "1701           21    340          21003      240        6.0  2.122808   \n",
       "1702           21    342          21003      240        6.0  2.093242   \n",
       "1703           21    344          21003      240        6.0  2.067285   \n",
       "1704           21    346          21003      240        6.0  2.045431   \n",
       "1705           21    348          21003      240        6.0  2.029394   \n",
       "...           ...    ...            ...      ...        ...       ...   \n",
       "6257           26  25377          26437      240        6.0 -0.860836   \n",
       "6258           26  25379          26437      240        6.0 -0.862640   \n",
       "6259           26  25381          26437      240        6.0 -0.864081   \n",
       "6260           26  25383          26437      240        6.0 -0.865253   \n",
       "6261           26  25385          26437      240        6.0 -0.866789   \n",
       "\n",
       "        sceneY  sceneXVelocity  sceneYVelocity  sceneXAcceleration  \\\n",
       "1701  2.922780        0.144132        0.704056           -0.002516   \n",
       "1702  2.779816        0.147831        0.714821           -0.018494   \n",
       "1703  2.634641        0.129785        0.725876            0.090231   \n",
       "1704  2.487554        0.109271        0.735435            0.102572   \n",
       "1705  2.339475        0.080186        0.740394            0.145424   \n",
       "...        ...             ...             ...                 ...   \n",
       "6257 -2.569047        0.011542        0.713318            0.000976   \n",
       "6258 -2.708986        0.009023        0.699695            0.012596   \n",
       "6259 -2.846484        0.007204        0.687489            0.009092   \n",
       "6260 -2.982461        0.005860        0.679881            0.006722   \n",
       "6261 -3.117753        0.007678        0.676460           -0.009093   \n",
       "\n",
       "      sceneYAcceleration     speed  displacementX  displacementY  \\\n",
       "1701           -0.185806  0.718658       2.149189       0.040427   \n",
       "1702           -0.053825  0.729947       2.119623       0.102537   \n",
       "1703           -0.055276  0.737387       2.093666       0.247712   \n",
       "1704           -0.047795  0.743508       2.071811       0.394799   \n",
       "1705           -0.024796  0.744724       2.055774       0.542878   \n",
       "...                  ...       ...            ...            ...   \n",
       "6257            0.018743  0.713412       0.834455       5.451400   \n",
       "6258            0.068117  0.699753       0.836260       5.591339   \n",
       "6259            0.061030  0.687527       0.837701       5.728837   \n",
       "6260            0.038038  0.679907       0.838873       5.864814   \n",
       "6261            0.017106  0.676504       0.840408       6.000106   \n",
       "\n",
       "      acceleration    localX    localY  \n",
       "1701      0.185823 -0.000000 -0.000000  \n",
       "1702      0.056913  0.029566  0.142964  \n",
       "1703      0.105816  0.055523  0.288139  \n",
       "1704      0.113161  0.077377  0.435226  \n",
       "1705      0.147523  0.093414  0.583305  \n",
       "...            ...       ...       ...  \n",
       "6257      0.018768  0.829147  5.506991  \n",
       "6258      0.069272  0.830952  5.646930  \n",
       "6259      0.061703  0.832392  5.784428  \n",
       "6260      0.038627  0.833564  5.920404  \n",
       "6261      0.019373  0.835100  6.055696  \n",
       "\n",
       "[234 rows x 17 columns]"
      ]
     },
     "execution_count": 174,
     "metadata": {},
     "output_type": "execute_result"
    }
   ],
   "source": [
    "cleanPedDf"
   ]
  },
  {
   "cell_type": "code",
   "execution_count": 175,
   "metadata": {},
   "outputs": [
    {
     "data": {
      "text/plain": [
       "5"
      ]
     },
     "execution_count": 175,
     "metadata": {},
     "output_type": "execute_result"
    }
   ],
   "source": [
    "# number of unique pedestrians\n",
    "len(cleanPedDf[\"uniqueTrackId\"].unique())"
   ]
  },
  {
   "cell_type": "code",
   "execution_count": 176,
   "metadata": {},
   "outputs": [
    {
     "name": "stdout",
     "output_type": "stream",
     "text": [
      "1.0359868170010624\n",
      "0.5197303844302296\n"
     ]
    }
   ],
   "source": [
    "# max and min values of speed\n",
    "print(cleanPedDf['speed'].max())\n",
    "print(cleanPedDf['speed'].min())\n",
    "\n"
   ]
  }
 ],
 "metadata": {
  "kernelspec": {
   "display_name": "Python 3 (ipykernel)",
   "language": "python",
   "name": "python3"
  },
  "language_info": {
   "codemirror_mode": {
    "name": "ipython",
    "version": 3
   },
   "file_extension": ".py",
   "mimetype": "text/x-python",
   "name": "python",
   "nbconvert_exporter": "python",
   "pygments_lexer": "ipython3",
   "version": "3.8.15"
  }
 },
 "nbformat": 4,
 "nbformat_minor": 4
}
